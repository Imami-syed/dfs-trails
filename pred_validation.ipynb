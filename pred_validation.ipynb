{
 "cells": [
  {
   "cell_type": "markdown",
   "metadata": {},
   "source": [
    "import tensorflow as tf\n",
    "from tensorflow.keras.models import load_model\n",
    "from tensorflow.keras.preprocessing.image import load_img, img_to_array\n",
    "import numpy as np\n",
    "\n",
    "# Load the trained model\n",
    "model = load_model('./trial/mcc3.h5')\n",
    "\n",
    "# Define a function to preprocess the input image\n",
    "def preprocess_image(image_path):\n",
    "    img = load_img(image_path, target_size=(224, 224))\n",
    "    img = img_to_array(img)\n",
    "    img = img / 255.0  # Normalize pixel values to the range [0, 1]\n",
    "    img = np.expand_dims(img, axis=0)  # Add batch dimension\n",
    "    return img\n",
    "\n",
    "# Define a function to predict the class of an input image\n",
    "def predict_class(image_path):\n",
    "    preprocessed_img = preprocess_image(image_path)\n",
    "    predictions = model.predict(preprocessed_img)\n",
    "    class_index = np.argmax(predictions)\n",
    "    \n",
    "    # Define the class labels\n",
    "    class_labels = ['brain_menin', 'oral_scc', 'oral_normal', 'brain_glioma', 'brain_tumor']\n",
    "    \n",
    "    predicted_class = class_labels[class_index]\n",
    "    confidence = predictions[0][class_index]\n",
    "    \n",
    "    return predictions, predicted_class, confidence\n",
    "\n",
    "# Example usage:\n",
    "image_path = 'mcc2/oral_scc/oral_scc_0003.jpg'\n",
    "predictions, predicted_class, confidence = predict_class(image_path)\n",
    "print(f'Predictions:{predictions} \\n Predicted Class: {predicted_class}, Confidence: {confidence}')\n"
   ]
  },
  {
   "cell_type": "code",
   "execution_count": 38,
   "metadata": {},
   "outputs": [
    {
     "name": "stdout",
     "output_type": "stream",
     "text": [
      "1/1 [==============================] - 1s 878ms/step\n",
      "Predicted class: oral_scc\n"
     ]
    }
   ],
   "source": [
    "import tensorflow as tf\n",
    "from tensorflow import keras\n",
    "from tensorflow.keras.preprocessing import image\n",
    "import numpy as np\n",
    "\n",
    "# Load the trained model\n",
    "model = keras.models.load_model('./trial/mcc3.h5')\n",
    "\n",
    "# Load and preprocess the image you want to classify\n",
    "image_path = 'dataset/Brain Cancer/brain_tumor/brain_tumor_0003.jpg'  # Replace with the actual image path\n",
    "img = image.load_img(image_path, target_size=(224, 224))  # Adjust target_size to match your model's input size\n",
    "img_array = image.img_to_array(img)\n",
    "img_array = np.expand_dims(img_array, axis=0)  # Add a batch dimension\n",
    "\n",
    "# Preprocess the image using the same preprocessing used during training\n",
    "img_array = keras.applications.vgg16.preprocess_input(img_array)\n",
    "\n",
    "# Make predictions\n",
    "predictions = model.predict(img_array)\n",
    "\n",
    "# Decode the predictions if your model has categorical labels (e.g., using ImageDataGenerator with class_mode='categorical')\n",
    "# If you trained the model with a different label encoding, adjust this part accordingly\n",
    "class_labels = ['brain_menin', 'brain_tumor','oral_scc',  'brain_glioma', 'oral_normal']  # Replace with your class labels\n",
    "predicted_class = class_labels[np.argmax(predictions)]\n",
    "\n",
    "print(\"Predicted class:\", predicted_class)"
   ]
  },
  {
   "cell_type": "code",
   "execution_count": 42,
   "metadata": {},
   "outputs": [
    {
     "name": "stdout",
     "output_type": "stream",
     "text": [
      "1/1 [==============================] - 1s 876ms/step\n",
      "Predicted Class: brain_menin, Confidence: 0.943182110786438\n"
     ]
    }
   ],
   "source": [
    "import tensorflow as tf\n",
    "from tensorflow.keras.models import load_model\n",
    "from tensorflow.keras.preprocessing.image import ImageDataGenerator\n",
    "import numpy as np\n",
    "from PIL import Image\n",
    "\n",
    "# Load the trained model\n",
    "model = load_model('./trial/mcc3.h5')\n",
    "\n",
    "# Define an ImageDataGenerator for preprocessing\n",
    "datagen = ImageDataGenerator(\n",
    "    horizontal_flip=True,\n",
    "    vertical_flip=True\n",
    ")\n",
    "\n",
    "# Define a function to preprocess the input image\n",
    "def preprocess_image(image_path):\n",
    "    img = Image.open(image_path)\n",
    "    img = img.resize((224, 224))  # Resize to match the model's input size\n",
    "    img = np.array(img) / 255.0  # Normalize pixel values to the range [0, 1]\n",
    "    img = np.expand_dims(img, axis=0)  # Add batch dimension\n",
    "    return img\n",
    "\n",
    "# Define a function to predict the class of an input image\n",
    "def predict_class(image_path):\n",
    "    preprocessed_img = preprocess_image(image_path)\n",
    "    \n",
    "    # Apply the same data augmentation as used during training\n",
    "    augmented_images = datagen.flow(preprocessed_img)\n",
    "    predictions = model.predict(augmented_images)\n",
    "    \n",
    "    # Take the average prediction from augmented images\n",
    "    avg_prediction = np.mean(predictions, axis=0)\n",
    "    \n",
    "    class_index = np.argmax(avg_prediction)\n",
    "    \n",
    "    # Define the class labels\n",
    "    class_labels = ['brain_menin', 'oral_scc', 'oral_normal', 'brain_glioma', 'brain_tumor']\n",
    "    \n",
    "    predicted_class = class_labels[class_index]\n",
    "    confidence = avg_prediction[class_index]\n",
    "    \n",
    "    return predicted_class, confidence\n",
    "\n",
    "# Example usage:\n",
    "image_path = 'dataset/Brain Cancer/brain_tumor/brain_tumor_0004.jpg'\n",
    "predicted_class, confidence = predict_class(image_path)\n",
    "print(f'Predicted Class: {predicted_class}, Confidence: {confidence}')\n"
   ]
  },
  {
   "cell_type": "code",
   "execution_count": null,
   "metadata": {},
   "outputs": [],
   "source": []
  }
 ],
 "metadata": {
  "kernelspec": {
   "display_name": "3d",
   "language": "python",
   "name": "python3"
  },
  "language_info": {
   "codemirror_mode": {
    "name": "ipython",
    "version": 3
   },
   "file_extension": ".py",
   "mimetype": "text/x-python",
   "name": "python",
   "nbconvert_exporter": "python",
   "pygments_lexer": "ipython3",
   "version": "3.11.5"
  }
 },
 "nbformat": 4,
 "nbformat_minor": 2
}
